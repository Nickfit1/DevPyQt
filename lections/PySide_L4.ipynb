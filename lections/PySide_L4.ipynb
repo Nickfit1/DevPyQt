{
 "cells": [
  {
   "cell_type": "markdown",
   "metadata": {
    "id": "R1XZd5MuehqB"
   },
   "source": [
    "# ТЕМА 2.\n",
    "\n",
    "Событийно-ориентированное программирование."
   ]
  },
  {
   "cell_type": "markdown",
   "metadata": {
    "id": "CsBpaKtNelW9"
   },
   "source": [
    "## Лекция.\n",
    "Взаимодействие элементов посредством сигналов/слотов"
   ]
  },
  {
   "cell_type": "markdown",
   "metadata": {
    "id": "_PBMkyP8esGD"
   },
   "source": [
    "### Учебные вопросы\n",
    "\n",
    "1. Понятие сигналов и слотов\n",
    "2. Диалоговые окна"
   ]
  },
  {
   "cell_type": "markdown",
   "metadata": {
    "id": "fSc9rdPhe2CV"
   },
   "source": [
    "### Источники\n",
    "\n",
    "* Официальная документация:\n",
    "  - https://doc.qt.io/qtforpython-6/\n",
    "  - https://doc.qt.io/qtforpython-6/quickstart.html\n",
    "\n",
    "* Прохоренок Н. А., Дронов В. А. Python 3 и PyQt 6. Разработка приложений."
   ]
  },
  {
   "cell_type": "markdown",
   "metadata": {
    "id": "05rjy-mkHc04"
   },
   "source": [
    "## Понятие событийно-ориентированного программирования."
   ]
  },
  {
   "cell_type": "markdown",
   "metadata": {
    "id": "AeSfLehoIFbs"
   },
   "source": [
    "\n",
    "**Сигналы** - это уведомления, отправляемые виджетами, когда \"что-то\" происходит. Этим \"что-то\" может быть практически любое событие изменения состояния виджета (от нажатия кнопки до изменения текста поля ввода или изменения текста окна).\n",
    "\n",
    "Многие сигналы инициируются действиями пользователя, **но это не является правилом**.\n",
    "\n"
   ]
  },
  {
   "cell_type": "markdown",
   "metadata": {
    "id": "4m7ODOqZTaiX"
   },
   "source": [
    "Вы также можете создавать свои собственные пользовательские сигналы, которые мы рассмотрим позже.\n"
   ]
  },
  {
   "cell_type": "markdown",
   "metadata": {
    "id": "ZPoVshmiIv5V"
   },
   "source": [
    "**Слоты** - это имя, которое Qt использует для приемников сигналов. В Python любая функция (или метод) в вашем приложении может быть использована в качестве слота - просто подключив к нему сигнал.\n",
    "\n",
    "Если сигнал отправляет данные, то принимающая функция тоже получит эти данные.\n",
    "\n",
    "Многие виджеты Qt также имеют свои собственные встроенные слоты, что означает, что вы можете напрямую подключать виджеты Qt друг к другу."
   ]
  },
  {
   "cell_type": "markdown",
   "metadata": {
    "id": "w9uC8DuZ8trx"
   },
   "source": [
    "\n",
    "Все встроенные виджеты Qt предоставляют набор подходящих сигналов, но можно создавать и пользовательские. В качестве слота подходит любая python функция (Callable).\n"
   ]
  },
  {
   "cell_type": "markdown",
   "metadata": {
    "id": "6s90gNGJ8iBN"
   },
   "source": [
    "> Принцип механизма слотов и сигналов можно объяснить на аналогии с тем, как работает искусственное освещение в помещениях. Результатом нажатия на выключатель (сигнал) Вы получаете включение (или выключение) лампы (слот).\n"
   ]
  },
  {
   "cell_type": "markdown",
   "metadata": {
    "id": "VhBcpjYC8nvs"
   },
   "source": [
    "> В качестве другого примера непосредственно связанного с разработкой графического интерфейса можно привести нажатие на кнопку (например, QPushButton): нажатие на кнопку (click) — сигнал, а слот — то, что происходит при нажатии на кнопку."
   ]
  },
  {
   "cell_type": "markdown",
   "metadata": {
    "id": "5UQDGhK-WKFU"
   },
   "source": [
    "Соединение сигнала со слотом:"
   ]
  },
  {
   "cell_type": "markdown",
   "metadata": {
    "id": "iKdRuxvkgxrO"
   },
   "source": [
    "> Для обработки сигнала необходимо:\n",
    "\n",
    "> Указать сигнал, который хотим обработать (clicked, triggered, textChanged)\n",
    "\n",
    ">Назначить сигналу обработчик (слот) с помощью метода connect()"
   ]
  },
  {
   "cell_type": "markdown",
   "metadata": {
    "id": "J02i6q_VHVxU"
   },
   "source": [
    "```python\n",
    "from PySide6 import QtWidgets\n",
    "\n",
    "\n",
    "\n",
    "class Window(QtWidgets.QWidget):\n",
    "    def __init__(self, parent=None):\n",
    "        super().__init__(parent)\n",
    "\n",
    "        self.initUi()\n",
    "        self.initSignals()\n",
    "\n",
    "    def initUi(self) -> None:\n",
    "        \"\"\"\n",
    "        Доинициализация Ui\n",
    "\n",
    "        :return: None\n",
    "        \"\"\"\n",
    "\n",
    "        self.pushButton = QtWidgets.QPushButton(\"Выполнить что-то\")\n",
    "\n",
    "        layout = QtWidgets.QVBoxLayout()\n",
    "        layout.addWidget(self.pushButton)\n",
    "\n",
    "        self.setLayout(layout)\n",
    "\n",
    "    def initSignals(self) -> None:\n",
    "        \"\"\"\n",
    "        Инициализация сигналов\n",
    "\n",
    "        :return: None\n",
    "        \"\"\"\n",
    "\n",
    "        # Указываем, что при нажатии на кнопку,\n",
    "        # будут выполнены дествия описанные\n",
    "        # в методе класса onPushButtonClicked\n",
    "        self.pushButton.clicked.connect(self.onPushButtonClicked)  \n",
    "\n",
    "    def onPushButtonClicked(self):\n",
    "        print(\"pushButton was clicked\")\n",
    "\n",
    "\n",
    "if __name__ == \"__main__\":\n",
    "    app = QtWidgets.QApplication()\n",
    "\n",
    "    window = Window()\n",
    "    window.show()\n",
    "\n",
    "    app.exec()\n",
    "\n",
    "```"
   ]
  },
  {
   "cell_type": "markdown",
   "metadata": {
    "id": "_w7WghcwhQZm"
   },
   "source": [
    "* Обработчиком можно назначить:\n",
    "    * Функцию;\n",
    "    * Метод класса (слот);\n",
    "    * Экземпляр класса, в котором определен метод __call__();\n",
    "    * Анонимную функцию;\n"
   ]
  },
  {
   "cell_type": "markdown",
   "metadata": {
    "id": "JIJYpuO3iZdw"
   },
   "source": [
    "Слот вызывается когда вырабатывается сигнал, с которым он связан.\n"
   ]
  },
  {
   "cell_type": "markdown",
   "metadata": {
    "id": "u3hrIUhqidmF"
   },
   "source": [
    "Слот это обычная функция в python и может вызываться обычным способом; единственная его особенность, что с ним можно соединять сигналы.\n"
   ]
  },
  {
   "cell_type": "markdown",
   "metadata": {
    "id": "1ySx85s0ifVk"
   },
   "source": [
    "Для того, чтобы функцию сделать слотом, необходимо указать для этой функции декоратор @Slot.\n",
    "\n",
    "> Примечание: данное действие не обязательно, но желательно, т.к. функция на которую ссылается сигнал, автоматически является слотом, однако при указании декоратора  вызов слота будет выполняться быстрее чем метода"
   ]
  },
  {
   "cell_type": "markdown",
   "metadata": {
    "id": "RfXF8Aca6X3s"
   },
   "source": [
    "## Класс QSettings"
   ]
  },
  {
   "cell_type": "markdown",
   "metadata": {
    "id": "_MayY97Q6YL5"
   },
   "source": [
    "QSettings - это класс в библиотеке Qt, который предоставляет удобный способ сохранения и загрузки настроек приложения. Он позволяет сохранять настройки в реестре (для Windows), в файле INI или XML, а также в других источниках.\n"
   ]
  },
  {
   "cell_type": "markdown",
   "metadata": {
    "id": "CAVZNw3_7WsO"
   },
   "source": [
    "\n",
    "Для использования QSettings в приложении на PySide6, необходимо сначала создать экземпляр класса QSettings, указав путь к файлу или название организации и приложения.\n",
    "\n",
    "Пример:\n",
    "\n",
    "```python\n",
    "from PySide6.QtCore import QSettings\n",
    "\n",
    "# Создание объекта QSettings для сохранения настроек в реестре\n",
    "settings = QSettings()\n",
    "\n",
    "# Создание объекта QSettings для сохранения настроек в файле INI\n",
    "settings = QSettings(\"app.ini\", QSettings.IniFormat)\n",
    "\n",
    "# Создание объекта QSettings для сохранения настроек для организации и приложения\n",
    "settings = QSettings(\"MyCompany\", \"MyApp\")\n",
    "```\n"
   ]
  },
  {
   "cell_type": "markdown",
   "metadata": {
    "id": "GZ6Qwzub7Y2R"
   },
   "source": [
    "\n",
    "После создания объекта QSettings, можно использовать методы setValue() и value() для сохранения и загрузки настроек соответственно.\n"
   ]
  },
  {
   "cell_type": "markdown",
   "metadata": {
    "id": "0tCJ26ev7clx"
   },
   "source": [
    "\n",
    "Пример сохранения настройки:\n",
    "\n",
    "```python\n",
    "settings.setValue(\"language\", \"English\")\n",
    "```\n"
   ]
  },
  {
   "cell_type": "markdown",
   "metadata": {
    "id": "INhGQNm47dsP"
   },
   "source": [
    "\n",
    "Пример загрузки настройки:\n",
    "\n",
    "```python\n",
    "language = settings.value(\"language\", \"Russian\")\n",
    "print(f\"Selected language: {language}\")\n",
    "```\n"
   ]
  },
  {
   "cell_type": "markdown",
   "metadata": {
    "id": "p2oVzVCf7e7w"
   },
   "source": [
    "\n",
    "При закрытии приложения или важном событии можно также вызвать метод sync(), чтобы убедиться, что все настройки были сохранены.\n",
    "\n",
    "```python\n",
    "settings.sync()\n",
    "```\n"
   ]
  },
  {
   "cell_type": "markdown",
   "metadata": {
    "id": "OslO4Z5N7gVz"
   },
   "source": [
    "\n",
    "QSettings также имеет другие методы для работы с настройками, такие как clear() для очистки всех настроек, contains() для проверки наличия определенной настройки и другие.\n",
    "\n",
    "QSettings - удобный и надежный способ сохранения и загрузки настроек приложения в PySide6. Используйте его для упрощения процесса работы с настройками в вашем приложении."
   ]
  }
 ],
 "metadata": {
  "colab": {
   "provenance": [],
   "toc_visible": true
  },
  "kernelspec": {
   "display_name": "Python 3 (ipykernel)",
   "language": "python",
   "name": "python3"
  },
  "language_info": {
   "codemirror_mode": {
    "name": "ipython",
    "version": 3
   },
   "file_extension": ".py",
   "mimetype": "text/x-python",
   "name": "python",
   "nbconvert_exporter": "python",
   "pygments_lexer": "ipython3",
   "version": "3.11.7"
  }
 },
 "nbformat": 4,
 "nbformat_minor": 4
}
